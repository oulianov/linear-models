{
 "cells": [
  {
   "cell_type": "markdown",
   "metadata": {},
   "source": [
    "# Polynomials and ratios\n",
    "\n",
    "Nicolas Oulianov\n",
    "\n",
    "## Introduction\n",
    "\n",
    "The linear regression model is a method to approximate coefficients of linear functions. That is, in function that, in 1D, look like $f(x) = ax + b$, find the best $a$ and $b$. Here, $x$ is the data collected, and $f(x)$ what's to be predicted. \n",
    "\n",
    "In $n$ dimension, the previous equation is equivalent to this one $f(x) = <a, x> + b$, where $f(x), b \\in \\mathbb{R}$, and $a, x \\in \\mathbb{R^n}$\n",
    "\n",
    "Now, what if $f(x)$ isn't a function as simple as above ? \n",
    "\n",
    "In this notebook, I'll present some handy methods that deal with tricky cases.\n"
   ]
  },
  {
   "cell_type": "code",
   "execution_count": 37,
   "metadata": {},
   "outputs": [],
   "source": [
    "import pandas as pd\n",
    "import numpy as np\n",
    "import seaborn as sns\n",
    "import matplotlib.pyplot as plt\n",
    "from sklearn.linear_model import LinearRegression\n",
    "sns.set(style=\"darkgrid\")"
   ]
  },
  {
   "cell_type": "markdown",
   "metadata": {},
   "source": [
    "## Polynomials\n",
    "\n",
    "Polynomials equations look like that : \n",
    "\n",
    "$\\forall x \\in \\mathbb{R}, f(x) = \\sum_{i=0}^{n}a_ix^i$\n",
    "\n",
    "Fortunately, they can be rewriten as a standard linear equation, assuming $x$ is fixed. \n",
    "\n",
    "Let $x \\in \\mathbb{R}$ fixed.\n",
    "\n",
    "Let's denote $X = (x_1, \\dots, x_n) \\in \\mathbb{R}^n$, where $\\forall i \\in \\{ 1, \\dots, n \\} , x_i = x^i$\n",
    "\n",
    "Then $f(x) = f(X) = <a, X> + b$, which is a linear equation that is easily solvable. \n",
    "\n",
    "Now, let's see how it looks with code."
   ]
  },
  {
   "cell_type": "code",
   "execution_count": 42,
   "metadata": {},
   "outputs": [
    {
     "data": {
      "image/png": "[encoded data removed]",
      "text/plain": [
       "<Figure size 432x288 with 1 Axes>"
      ]
     },
     "metadata": {},
     "output_type": "display_data"
    }
   ],
   "source": [
    "# Number of observations\n",
    "n = 200\n",
    "\n",
    "# features vector\n",
    "x = np.linspace(0, 10, n)\n",
    "\n",
    "# f(x), the values we try to predict\n",
    "a, b, c, d = 45, 10, 1, 0.04\n",
    "f_x = a + b*x + c*x**2 + d*x**3\n",
    "\n",
    "# Add noise to the data.\n",
    "f_x_noisy = f_x + np.random.random(n)*10\n",
    "\n",
    "sns.lineplot(x, f_x, color=\"red\")\n",
    "sns.scatterplot(x, f_x_noisy)\n",
    "plt.show()"
   ]
  },
  {
   "cell_type": "markdown",
   "metadata": {},
   "source": [
    "## Ratios"
   ]
  },
  {
   "cell_type": "code",
   "execution_count": null,
   "metadata": {},
   "outputs": [],
   "source": []
  },
  {
   "cell_type": "markdown",
   "metadata": {},
   "source": [
    "## Logistic curves"
   ]
  },
  {
   "cell_type": "code",
   "execution_count": null,
   "metadata": {},
   "outputs": [],
   "source": []
  },
  {
   "cell_type": "code",
   "execution_count": null,
   "metadata": {},
   "outputs": [],
   "source": []
  }
 ],
 "metadata": {
  "kernelspec": {
   "display_name": "Python 3",
   "language": "python",
   "name": "python3"
  },
  "language_info": {
   "codemirror_mode": {
    "name": "ipython",
    "version": 3
   },
   "file_extension": ".py",
   "mimetype": "text/x-python",
   "name": "python",
   "nbconvert_exporter": "python",
   "pygments_lexer": "ipython3",
   "version": "3.7.5"
  }
 },
 "nbformat": 4,
 "nbformat_minor": 2
}
