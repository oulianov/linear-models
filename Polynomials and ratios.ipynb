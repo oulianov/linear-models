{
 "cells": [
  {
   "cell_type": "markdown",
   "metadata": {},
   "source": [
    "# Polynomials and ratios\n",
    "\n",
    "Nicolas Oulianov\n",
    "\n",
    "## Introduction\n",
    "\n",
    "The linear regression model is a method to approximate coefficients of linear functions. That is, in function that, in 1D, look like $f(x) = ax + b$, find the best $a$ and $b$. Here, $x$ is the data collected, and $f(x)$ what's to be predicted. \n",
    "\n",
    "In $n$ dimension, the previous equation is equivalent to this one $f(x) = <a, x> + b$, where $f(x), b \\in \\mathbb{R}$, and $a, x \\in \\mathbb{R^n}$\n",
    "\n",
    "Now, what if $f(x)$ isn't a function as simple as above ? \n",
    "\n",
    "In this notebook, I'll present some handy methods that deal with tricky cases.\n"
   ]
  },
  {
   "cell_type": "code",
   "execution_count": 37,
   "metadata": {},
   "outputs": [],
   "source": [
    "import pandas as pd\n",
    "import numpy as np\n",
    "import seaborn as sns\n",
    "import matplotlib.pyplot as plt\n",
    "from sklearn.linear_model import LinearRegression\n",
    "sns.set(style=\"darkgrid\")"
   ]
  },
  {
   "cell_type": "markdown",
   "metadata": {},
   "source": [
    "## Polynomials\n",
    "\n",
    "Polynomials equations look like that : \n",
    "\n",
    "$\\forall x \\in \\mathbb{R}, f(x) = \\sum_{i=0}^{n}a_ix^i$\n",
    "\n",
    "Fortunately, they can be rewriten as a standard linear equation, assuming $x$ is fixed. \n",
    "\n",
    "Let $x \\in \\mathbb{R}$ fixed.\n",
    "\n",
    "Let's denote $X = (x_1, \\dots, x_n) \\in \\mathbb{R}^n$, where $\\forall i \\in \\{ 1, \\dots, n \\} , x_i = x^i$\n",
    "\n",
    "Then $f(x) = f(X) = <a, X> + b$, which is a linear equation that is easily solvable. \n",
    "\n",
    "Now, let's see how it looks with code on a simple $n=3$ case. "
   ]
  },
  {
   "cell_type": "code",
   "execution_count": 145,
   "metadata": {},
   "outputs": [],
   "source": [
    "# Number of observations\n",
    "n = 200\n",
    "\n",
    "# features vector\n",
    "x = np.linspace(0, 10, n)\n",
    "\n",
    "# f(x), the values we try to predict\n",
    "a, b, c, d = 40, 10, -1.5, 0.4\n",
    "f_x = a + b*x + c*x**2 + d*x**3\n",
    "\n",
    "# Add gaussian noise to the data.\n",
    "f_x_noisy = f_x + (np.random.randn(n)*15)\n",
    "\n",
    "# Estimate a, b, c, d using linear regression\n",
    "model = LinearRegression()\n",
    "\n",
    "# Transformation\n",
    "def add_n_powers(x, n):\n",
    "    X = []\n",
    "    for i in range(1, n+1):\n",
    "        X.append(x**i)\n",
    "    return np.array(X).T\n",
    "\n",
    "X = add_n_powers(x, 3)\n",
    "model.fit(X, f_x_noisy)\n",
    "f_x_estimated = model.predict(X)\n",
    "\n",
    "# Plotting\n",
    "def visualisation():\n",
    "    fig = plt.figure(figsize=(10, 8)) # change figsize\n",
    "    sns.lineplot(x, f_x, color=\"red\")\n",
    "    sns.scatterplot(x, f_x_noisy)\n",
    "    sns.lineplot(x, f_x_estimated, color=\"cyan\")\n",
    "    plt.xlabel('x')\n",
    "    plt.ylabel('f(x)')\n",
    "    plt.legend(['true f(x)', 'estimated f(x)', 'noisy f(x) values'])\n",
    "    plt.show()"
   ]
  },
  {
   "cell_type": "markdown",
   "metadata": {},
   "source": [
    "Now, let's compare the true coefficients with those estimated. "
   ]
  },
  {
   "cell_type": "code",
   "execution_count": 146,
   "metadata": {},
   "outputs": [
    {
     "name": "stdout",
     "output_type": "stream",
     "text": [
      "Estimation risk : 1.1597251241132382\n",
      "Coefficient values error :\n"
     ]
    },
    {
     "data": {
      "text/html": [
       "<div>\n",
       "<style scoped>\n",
       "    .dataframe tbody tr th:only-of-type {\n",
       "        vertical-align: middle;\n",
       "    }\n",
       "\n",
       "    .dataframe tbody tr th {\n",
       "        vertical-align: top;\n",
       "    }\n",
       "\n",
       "    .dataframe thead th {\n",
       "        text-align: right;\n",
       "    }\n",
       "</style>\n",
       "<table border=\"1\" class=\"dataframe\">\n",
       "  <thead>\n",
       "    <tr style=\"text-align: right;\">\n",
       "      <th></th>\n",
       "      <th>Real value</th>\n",
       "      <th>Estimated value</th>\n",
       "      <th>% Difference</th>\n",
       "    </tr>\n",
       "  </thead>\n",
       "  <tbody>\n",
       "    <tr>\n",
       "      <th>0</th>\n",
       "      <td>40.0</td>\n",
       "      <td>39.256790</td>\n",
       "      <td>-1.858024</td>\n",
       "    </tr>\n",
       "    <tr>\n",
       "      <th>1</th>\n",
       "      <td>10.0</td>\n",
       "      <td>7.248515</td>\n",
       "      <td>-27.514855</td>\n",
       "    </tr>\n",
       "    <tr>\n",
       "      <th>2</th>\n",
       "      <td>-1.5</td>\n",
       "      <td>-0.741707</td>\n",
       "      <td>-50.552851</td>\n",
       "    </tr>\n",
       "    <tr>\n",
       "      <th>3</th>\n",
       "      <td>0.4</td>\n",
       "      <td>0.347700</td>\n",
       "      <td>-13.074911</td>\n",
       "    </tr>\n",
       "  </tbody>\n",
       "</table>\n",
       "</div>"
      ],
      "text/plain": [
       "   Real value  Estimated value  % Difference\n",
       "0        40.0        39.256790     -1.858024\n",
       "1        10.0         7.248515    -27.514855\n",
       "2        -1.5        -0.741707    -50.552851\n",
       "3         0.4         0.347700    -13.074911"
      ]
     },
     "execution_count": 146,
     "metadata": {},
     "output_type": "execute_result"
    }
   ],
   "source": [
    "results = pd.DataFrame()\n",
    "results['Real value'] = [a,b,c,d]\n",
    "results['Estimated value'] = [model.intercept_] + list(model.coef_)\n",
    "results['% Difference'] = 100*(results['Estimated value'] - results['Real value'])/results['Real value']\n",
    "\n",
    "print('Estimation risk :', np.var(model.predict(X) - f_x))\n",
    "\n",
    "print('Coefficient values error :')\n",
    "results"
   ]
  },
  {
   "cell_type": "markdown",
   "metadata": {},
   "source": [
    "Even if the coefficient values aren't exactly the same, the estimation risk is very low. Indeed, even if the exact coefficients values haven't been found, the true curve has been approximated very well. This can be seen on the plot above. "
   ]
  },
  {
   "cell_type": "markdown",
   "metadata": {},
   "source": [
    "## Ratios\n",
    "\n",
    "Let's consider other kinds of function that involve ratios. These are mostly common in business and marketing. The simplest example can be :\n",
    "\n",
    "$\\forall x, y \\in \\mathbb{R}, f(x, y) = a + bx + c\\frac{y}{x}$\n",
    "\n",
    "Let's take an example. $f(x)$ could be the value of a customer sale, $x$ could be the number of articles bought, and $\\frac{y}{x}$ the average marketing expenses for bought products. By finding the coefficients of this equation, you try to understand customer behaviour. How much are marketing expenses positively impacting sales ? \n",
    "\n",
    "This function is not linear. But, with fixed $x$ and $y$, one can be tempted to perform a transformation similar to the one above, and to state\n",
    "\n",
    "Let $X=(x1, x2) \\in \\mathbb{R}^2$, such as $x_1 = x$ and $x_2 = \\frac{y}{x}$\n",
    "\n",
    "We have then $f(x,y) = f(X) = a + <\\beta, X>$ which is a linear equation.\n",
    "\n",
    "Let's try that. "
   ]
  },
  {
   "cell_type": "code",
   "execution_count": 227,
   "metadata": {},
   "outputs": [
    {
     "data": {
      "image/png": "[encoded data removed]",
      "text/plain": [
       "<Figure size 720x576 with 1 Axes>"
      ]
     },
     "metadata": {},
     "output_type": "display_data"
    }
   ],
   "source": [
    "# Number of observations\n",
    "n = 200\n",
    "\n",
    "# features vectors\n",
    "x = np.linspace(1, 10, n) \n",
    "y = np.linspace(2, 6, n)\n",
    "\n",
    "# f(x), the values we try to predict\n",
    "a, b, c = 20, 3, 10\n",
    "f_x = a + b*x + c*y/x\n",
    "\n",
    "# Add gaussian noise to the data.\n",
    "f_x_noisy = f_x + (np.random.randn(n)*10)\n",
    "\n",
    "# Estimate a, b, c, d using linear regression\n",
    "model = LinearRegression()\n",
    "\n",
    "# Transformation\n",
    "X = np.array([x, y/x]).T\n",
    "model.fit(X, f_x_noisy)\n",
    "f_x_estimated = model.predict(X)\n",
    "\n",
    "# Plotting\n",
    "# We plot only according to the x axis. \n",
    "visualisation()"
   ]
  },
  {
   "cell_type": "code",
   "execution_count": 228,
   "metadata": {},
   "outputs": [
    {
     "name": "stdout",
     "output_type": "stream",
     "text": [
      "Estimation risk : 2.4729798451872846\n",
      "Coefficient values error :\n"
     ]
    },
    {
     "data": {
      "text/html": [
       "<div>\n",
       "<style scoped>\n",
       "    .dataframe tbody tr th:only-of-type {\n",
       "        vertical-align: middle;\n",
       "    }\n",
       "\n",
       "    .dataframe tbody tr th {\n",
       "        vertical-align: top;\n",
       "    }\n",
       "\n",
       "    .dataframe thead th {\n",
       "        text-align: right;\n",
       "    }\n",
       "</style>\n",
       "<table border=\"1\" class=\"dataframe\">\n",
       "  <thead>\n",
       "    <tr style=\"text-align: right;\">\n",
       "      <th></th>\n",
       "      <th>Real value</th>\n",
       "      <th>Estimated value</th>\n",
       "      <th>% Difference</th>\n",
       "    </tr>\n",
       "  </thead>\n",
       "  <tbody>\n",
       "    <tr>\n",
       "      <th>0</th>\n",
       "      <td>20</td>\n",
       "      <td>10.470981</td>\n",
       "      <td>-47.645093</td>\n",
       "    </tr>\n",
       "    <tr>\n",
       "      <th>1</th>\n",
       "      <td>3</td>\n",
       "      <td>3.483758</td>\n",
       "      <td>16.125282</td>\n",
       "    </tr>\n",
       "    <tr>\n",
       "      <th>2</th>\n",
       "      <td>10</td>\n",
       "      <td>18.410085</td>\n",
       "      <td>84.100848</td>\n",
       "    </tr>\n",
       "  </tbody>\n",
       "</table>\n",
       "</div>"
      ],
      "text/plain": [
       "   Real value  Estimated value  % Difference\n",
       "0          20        10.470981    -47.645093\n",
       "1           3         3.483758     16.125282\n",
       "2          10        18.410085     84.100848"
      ]
     },
     "execution_count": 228,
     "metadata": {},
     "output_type": "execute_result"
    }
   ],
   "source": [
    "results = pd.DataFrame()\n",
    "results['Real value'] = [a,b,c]\n",
    "results['Estimated value'] = [model.intercept_] + list(model.coef_)\n",
    "results['% Difference'] = 100*(results['Estimated value'] - results['Real value'])/results['Real value']\n",
    "\n",
    "print('Estimation risk :', np.var(model.predict(X) - f_x))\n",
    "\n",
    "print('Coefficient values error :')\n",
    "results"
   ]
  },
  {
   "cell_type": "markdown",
   "metadata": {},
   "source": [
    "The results are not _too_ bad risk-wise, but the coefficient estimation is pretty bad. And, as soon as the $c$ coefficient is too small compared to $b$, then the model yields very bad values. \n",
    "\n",
    "This is due to the fact that $\\frac{1}{x}$ is much, much smaller than $x$, especially for large values of x. Thus, for the model tend to consider $\\frac{1}{x}$ as noise.\n",
    "\n",
    "The solution to find better coefficients is too perform another transformation. Given fixed $x, y \\in \\mathbb{R}$, \n",
    "\n",
    "Let $g(x, y) = xf(x,y) = ax + bx^2 + cy$\n",
    "\n",
    "Let $X \\in \\mathbb{R}^3 = (x, x^2, y)$\n",
    "\n",
    "Thus, $g(x, y) = <beta, X>$ which is a linear equation. \n",
    "\n",
    "Now, using this last transformation, perform a linear regression on $g(x, y)$ to find $a, b,$ and $c$. Notice that the coefficients found this way are still the same that those of $f$ !"
   ]
  },
  {
   "cell_type": "code",
   "execution_count": 229,
   "metadata": {},
   "outputs": [
    {
     "data": {
      "image/png": "[encoded data removed]",
      "text/plain": [
       "<Figure size 720x576 with 1 Axes>"
      ]
     },
     "metadata": {},
     "output_type": "display_data"
    }
   ],
   "source": [
    "# Estimate a, b, c, d using linear regression\n",
    "model_2 = LinearRegression(fit_intercept=False)\n",
    "\n",
    "# Transformation\n",
    "f_x_transform = f_x_noisy*x\n",
    "X = np.array([x, x**2, y]).T\n",
    "model_2.fit(X, f_x_transform)\n",
    "f_x_estimated = model_2.predict(X)/x\n",
    "\n",
    "# Plotting\n",
    "# We plot only according to the x axis. \n",
    "visualisation()"
   ]
  },
  {
   "cell_type": "code",
   "execution_count": 230,
   "metadata": {},
   "outputs": [
    {
     "name": "stdout",
     "output_type": "stream",
     "text": [
      "Estimation risk : 0.38749195225440813\n",
      "Coefficient values error :\n"
     ]
    },
    {
     "data": {
      "text/html": [
       "<div>\n",
       "<style scoped>\n",
       "    .dataframe tbody tr th:only-of-type {\n",
       "        vertical-align: middle;\n",
       "    }\n",
       "\n",
       "    .dataframe tbody tr th {\n",
       "        vertical-align: top;\n",
       "    }\n",
       "\n",
       "    .dataframe thead th {\n",
       "        text-align: right;\n",
       "    }\n",
       "</style>\n",
       "<table border=\"1\" class=\"dataframe\">\n",
       "  <thead>\n",
       "    <tr style=\"text-align: right;\">\n",
       "      <th></th>\n",
       "      <th>Real value</th>\n",
       "      <th>Estimated value</th>\n",
       "      <th>% Difference</th>\n",
       "    </tr>\n",
       "  </thead>\n",
       "  <tbody>\n",
       "    <tr>\n",
       "      <th>0</th>\n",
       "      <td>20</td>\n",
       "      <td>18.659125</td>\n",
       "      <td>-6.704375</td>\n",
       "    </tr>\n",
       "    <tr>\n",
       "      <th>1</th>\n",
       "      <td>3</td>\n",
       "      <td>2.971588</td>\n",
       "      <td>-0.947056</td>\n",
       "    </tr>\n",
       "    <tr>\n",
       "      <th>2</th>\n",
       "      <td>10</td>\n",
       "      <td>11.897648</td>\n",
       "      <td>18.976477</td>\n",
       "    </tr>\n",
       "  </tbody>\n",
       "</table>\n",
       "</div>"
      ],
      "text/plain": [
       "   Real value  Estimated value  % Difference\n",
       "0          20        18.659125     -6.704375\n",
       "1           3         2.971588     -0.947056\n",
       "2          10        11.897648     18.976477"
      ]
     },
     "execution_count": 230,
     "metadata": {},
     "output_type": "execute_result"
    }
   ],
   "source": [
    "results = pd.DataFrame()\n",
    "results['Real value'] = [a,b,c]\n",
    "results['Estimated value'] = model_2.coef_\n",
    "results['% Difference'] = 100*(results['Estimated value'] - results['Real value'])/results['Real value']\n",
    "\n",
    "print('Estimation risk :', np.var(model_2.predict(X)/x - f_x))\n",
    "\n",
    "print('Coefficient values error :')\n",
    "results"
   ]
  },
  {
   "cell_type": "markdown",
   "metadata": {},
   "source": [
    "With this last transformation, the estimation risk is sometimes slightly higher, but coefficients' values are much closer. \n",
    "\n",
    "Note that this does not always perform better than the first one. It depends on the $x$ and $y$ data range, and also the noise level. In a production setting, it's best to try with both approaches and take the tim"
   ]
  },
  {
   "cell_type": "markdown",
   "metadata": {},
   "source": [
    "## Logistic curves"
   ]
  },
  {
   "cell_type": "code",
   "execution_count": 181,
   "metadata": {},
   "outputs": [
    {
     "data": {
      "text/plain": [
       "array([18.59803765,  3.03185299, 10.68255022])"
      ]
     },
     "execution_count": 181,
     "metadata": {},
     "output_type": "execute_result"
    }
   ],
   "source": [
    "model_2.coef_"
   ]
  },
  {
   "cell_type": "code",
   "execution_count": null,
   "metadata": {},
   "outputs": [],
   "source": []
  }
 ],
 "metadata": {
  "kernelspec": {
   "display_name": "Python 3",
   "language": "python",
   "name": "python3"
  },
  "language_info": {
   "codemirror_mode": {
    "name": "ipython",
    "version": 3
   },
   "file_extension": ".py",
   "mimetype": "text/x-python",
   "name": "python",
   "nbconvert_exporter": "python",
   "pygments_lexer": "ipython3",
   "version": "3.7.5"
  }
 },
 "nbformat": 4,
 "nbformat_minor": 2
}
