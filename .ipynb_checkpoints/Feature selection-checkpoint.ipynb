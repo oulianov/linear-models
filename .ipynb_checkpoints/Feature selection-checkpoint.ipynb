{
 "cells": [
  {
   "cell_type": "markdown",
   "metadata": {},
   "source": [
    "## Feature selection within linear models (forward selection)\n",
    "\n",
    "### Problem\n",
    "\n",
    "You want to predict $y \\in \\mathbb{R}$ using linear regression. \n",
    "\n",
    "You got too many $x \\in \\mathbb{R}^{m}$ features to do so, and most of them are probably not statistically signifiant at all. \n",
    "\n",
    "You want to select the best features ($x$ coordinates) to perform the prediction. \n",
    "\n",
    "### Implemented solution\n",
    "\n",
    "In this notebook, I implement a mathod to solve this problem called **forward selection**. "
   ]
  },
  {
   "cell_type": "code",
   "execution_count": 65,
   "metadata": {},
   "outputs": [],
   "source": [
    "import numpy as np\n",
    "import pandas as pd\n",
    "import matplotlib.pyplot as plt\n",
    "from statsmodels.regression.linear_model import OLS\n",
    "from copy import deepcopy"
   ]
  },
  {
   "cell_type": "markdown",
   "metadata": {},
   "source": [
    "## 1. Generate data"
   ]
  },
  {
   "cell_type": "code",
   "execution_count": 72,
   "metadata": {},
   "outputs": [],
   "source": [
    "n = 400\n",
    "m = 80 \n",
    "\n",
    "X = np.random.normal(size=(n, m))\n",
    "\n",
    "a = 0\n",
    "b = 100*np.random.normal(size=10)\n",
    "y = a + X[:,:10].dot(b)"
   ]
  },
  {
   "cell_type": "code",
   "execution_count": 73,
   "metadata": {},
   "outputs": [
    {
     "data": {
      "text/plain": [
       "[<matplotlib.lines.Line2D at 0x7f5db6364290>]"
      ]
     },
     "execution_count": 73,
     "metadata": {},
     "output_type": "execute_result"
    },
    {
     "data": {
      "image/png": "[encoded data removed]",
      "text/plain": [
       "<Figure size 432x288 with 1 Axes>"
      ]
     },
     "metadata": {
      "needs_background": "light"
     },
     "output_type": "display_data"
    }
   ],
   "source": [
    "plt.plot(X[:,0], y, '.')\n",
    "#plt.plot(X[:,50], y, '.')"
   ]
  },
  {
   "cell_type": "markdown",
   "metadata": {},
   "source": [
    "Let's try to compute a quick OLS on all the features. "
   ]
  },
  {
   "cell_type": "code",
   "execution_count": 81,
   "metadata": {},
   "outputs": [
    {
     "ename": "NameError",
     "evalue": "name 'add_1' is not defined",
     "output_type": "error",
     "traceback": [
      "\u001b[0;31m---------------------------------------------------------------------------\u001b[0m",
      "\u001b[0;31mNameError\u001b[0m                                 Traceback (most recent call last)",
      "\u001b[0;32m<ipython-input-81-7798503335b9>\u001b[0m in \u001b[0;36m<module>\u001b[0;34m\u001b[0m\n\u001b[1;32m      7\u001b[0m     \u001b[0;32mreturn\u001b[0m \u001b[0mmodel\u001b[0m\u001b[0;34m\u001b[0m\u001b[0;34m\u001b[0m\u001b[0m\n\u001b[1;32m      8\u001b[0m \u001b[0;34m\u001b[0m\u001b[0m\n\u001b[0;32m----> 9\u001b[0;31m \u001b[0mrun_OLS\u001b[0m\u001b[0;34m(\u001b[0m\u001b[0mX\u001b[0m\u001b[0;34m,\u001b[0m \u001b[0my\u001b[0m\u001b[0;34m)\u001b[0m\u001b[0;34m\u001b[0m\u001b[0;34m\u001b[0m\u001b[0m\n\u001b[0m",
      "\u001b[0;32m<ipython-input-81-7798503335b9>\u001b[0m in \u001b[0;36mrun_OLS\u001b[0;34m(X, y, const)\u001b[0m\n\u001b[1;32m      2\u001b[0m     \u001b[0;34m\"\"\"Performs an OLS regression using the module statsmodel.\"\"\"\u001b[0m\u001b[0;34m\u001b[0m\u001b[0;34m\u001b[0m\u001b[0m\n\u001b[1;32m      3\u001b[0m     \u001b[0;32mif\u001b[0m \u001b[0mconst\u001b[0m\u001b[0;34m:\u001b[0m\u001b[0;34m\u001b[0m\u001b[0;34m\u001b[0m\u001b[0m\n\u001b[0;32m----> 4\u001b[0;31m         \u001b[0mmodel\u001b[0m \u001b[0;34m=\u001b[0m \u001b[0mOLS\u001b[0m\u001b[0;34m(\u001b[0m\u001b[0my\u001b[0m\u001b[0;34m,\u001b[0m \u001b[0madd_1\u001b[0m\u001b[0;34m(\u001b[0m\u001b[0mX\u001b[0m\u001b[0;34m)\u001b[0m\u001b[0;34m,\u001b[0m \u001b[0mhasconst\u001b[0m\u001b[0;34m=\u001b[0m\u001b[0;32mTrue\u001b[0m\u001b[0;34m)\u001b[0m\u001b[0;34m.\u001b[0m\u001b[0mfit\u001b[0m\u001b[0;34m(\u001b[0m\u001b[0;34m)\u001b[0m\u001b[0;34m\u001b[0m\u001b[0;34m\u001b[0m\u001b[0m\n\u001b[0m\u001b[1;32m      5\u001b[0m     \u001b[0;32melse\u001b[0m\u001b[0;34m:\u001b[0m\u001b[0;34m\u001b[0m\u001b[0;34m\u001b[0m\u001b[0m\n\u001b[1;32m      6\u001b[0m         \u001b[0mmodel\u001b[0m \u001b[0;34m=\u001b[0m \u001b[0mOLS\u001b[0m\u001b[0;34m(\u001b[0m\u001b[0my\u001b[0m\u001b[0;34m,\u001b[0m \u001b[0mX\u001b[0m\u001b[0;34m)\u001b[0m\u001b[0;34m.\u001b[0m\u001b[0mfit\u001b[0m\u001b[0;34m(\u001b[0m\u001b[0;34m)\u001b[0m\u001b[0;34m\u001b[0m\u001b[0;34m\u001b[0m\u001b[0m\n",
      "\u001b[0;31mNameError\u001b[0m: name 'add_1' is not defined"
     ]
    }
   ],
   "source": [
    "def add_1(X):\n",
    "    n = X.shape[0]\n",
    "    i = np.ones((n,1))\n",
    "    return np.concatenate((i, X), axis=1)\n",
    "\n",
    "def run_OLS(X, y, const=True):\n",
    "    \"\"\"Performs an OLS regression using the module statsmodel.\"\"\"\n",
    "    if const:\n",
    "        model = OLS(y, add_1(X), hasconst=True).fit()\n",
    "    else:\n",
    "        model = OLS(y, X).fit()\n",
    "    return model\n",
    "\n",
    "run_OLS(X, y)"
   ]
  },
  {
   "cell_type": "markdown",
   "metadata": {},
   "source": [
    "## 2. Forward selection algorithm"
   ]
  },
  {
   "cell_type": "code",
   "execution_count": 80,
   "metadata": {},
   "outputs": [
    {
     "data": {
      "text/plain": [
       "[6, 5, 8, 0, 4, 2, 3, 1, 7, 9, 74, 64, 19]"
      ]
     },
     "execution_count": 80,
     "metadata": {},
     "output_type": "execute_result"
    }
   ],
   "source": [
    "def forward_selection(X, y, eps=0.1, wordy=True):\n",
    "    \"\"\"Forward selection method for linear regression.\n",
    "    Returns a list of indexes for features of X.\"\"\"\n",
    "    n = X.shape[0]\n",
    "    p = X.shape[1]\n",
    "    stop = False\n",
    "    selected_var = []\n",
    "    residual_y = deepcopy(y)\n",
    "    indexes_left = list(range(p))\n",
    "    p_values_stored = []\n",
    "    iterator = 0\n",
    "    while stop is False:\n",
    "        T_stats = []\n",
    "        p_values = []\n",
    "        # Compute test statistics for each variable left\n",
    "        for k in indexes_left:\n",
    "            X_k = X[:,k].reshape(-1,1)\n",
    "            model = run_OLS(X_k, residual_y, const=False)\n",
    "            T = np.abs(model.tvalues[0])\n",
    "            p_value = model.pvalues[0]\n",
    "            T_stats.append(T)\n",
    "            p_values.append(p_value)\n",
    "        # Stopping criterion \n",
    "        if indexes_left==[] or min(p_values) > eps: \n",
    "            stop = True\n",
    "        else:     \n",
    "            # Find best var index \n",
    "            best_k_i = np.argmax(T_stats)\n",
    "            best_k = indexes_left[best_k_i]\n",
    "            # Add it to a list\n",
    "            selected_var.append(best_k)\n",
    "            indexes_left.remove(best_k)\n",
    "            # Compute the linear regression model and...\n",
    "            X_k = X[:,best_k].reshape(-1, 1)\n",
    "            model = run_OLS(X_k, residual_y, const=False)\n",
    "            # ... Recompute the residual\n",
    "            residual_y -= model.predict(X_k)\n",
    "            # Store the first 3 p_values found (for visualization)\n",
    "            if iterator < 3:\n",
    "                p_values_stored.append(p_values)\n",
    "        iterator += 1\n",
    "            \n",
    "    return selected_var\n",
    "    \n",
    "forward_selection(X, y, 0.05)\n"
   ]
  },
  {
   "cell_type": "code",
   "execution_count": null,
   "metadata": {},
   "outputs": [],
   "source": []
  }
 ],
 "metadata": {
  "kernelspec": {
   "display_name": "Python 3",
   "language": "python",
   "name": "python3"
  },
  "language_info": {
   "codemirror_mode": {
    "name": "ipython",
    "version": 3
   },
   "file_extension": ".py",
   "mimetype": "text/x-python",
   "name": "python",
   "nbconvert_exporter": "python",
   "pygments_lexer": "ipython3",
   "version": "3.7.5"
  }
 },
 "nbformat": 4,
 "nbformat_minor": 2
}
